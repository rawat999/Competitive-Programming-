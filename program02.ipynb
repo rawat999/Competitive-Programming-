{
  "nbformat": 4,
  "nbformat_minor": 0,
  "metadata": {
    "colab": {
      "name": "program02.ipynb",
      "provenance": [],
      "authorship_tag": "ABX9TyNpgKVtVJ2iSZUoBkaFugVZ",
      "include_colab_link": true
    },
    "kernelspec": {
      "name": "python3",
      "display_name": "Python 3"
    }
  },
  "cells": [
    {
      "cell_type": "markdown",
      "metadata": {
        "id": "view-in-github",
        "colab_type": "text"
      },
      "source": [
        "<a href=\"https://colab.research.google.com/github/rawatpremsingh999/Competitive-Programming-/blob/master/program02.ipynb\" target=\"_parent\"><img src=\"https://colab.research.google.com/assets/colab-badge.svg\" alt=\"Open In Colab\"/></a>"
      ]
    },
    {
      "cell_type": "markdown",
      "metadata": {
        "id": "qdE-KDFrlr6i"
      },
      "source": [
        "**Sum upto N- numbers**\r\n",
        "\r\n",
        "\r\n",
        "*  n = 5 then output 1+2+3+4+5 = 15\r\n",
        "*  n = 7 then output 1+ 2+ 3+ 4+ 5+ 6+ 7 = 28\r\n",
        "\r\n"
      ]
    },
    {
      "cell_type": "code",
      "metadata": {
        "colab": {
          "base_uri": "https://localhost:8080/"
        },
        "id": "PYXbcCdhlsiY",
        "outputId": "475da796-f5de-4ee9-a844-0862161d4212"
      },
      "source": [
        "def sum1_upto(n):\r\n",
        "  # Time Complexity = O(n)\r\n",
        "  sum = 0\r\n",
        "  for i in range(n+1):\r\n",
        "    sum += i\r\n",
        "  return sum\r\n",
        "\r\n",
        "def sum2_upto(n):\r\n",
        "  # Time Compelexity = O(1)\r\n",
        "  return (n * (n+1))//2\r\n",
        "\r\n",
        "# O(n) > O(1)\r\n",
        "# sum2_upto is more efficient for sum of continuous whole numbers\r\n",
        "\r\n",
        "if __name__ == \"__main__\":\r\n",
        "  print('Sum Upto (Enter number): ')\r\n",
        "  n = int(input())\r\n",
        "  print(\"Sum1 : {}\".format(sum1_upto(n)))\r\n",
        "  print(\"Sum2 : {}\".format(sum2_upto(n)))"
      ],
      "execution_count": 13,
      "outputs": [
        {
          "output_type": "stream",
          "text": [
            "Sum Upto (Enter number): \n",
            "200000\n",
            "Sum1 : 20000100000\n",
            "Sum2 : 20000100000\n"
          ],
          "name": "stdout"
        }
      ]
    },
    {
      "cell_type": "markdown",
      "metadata": {
        "id": "cKCqNlC9qmKM"
      },
      "source": [
        "**Time Difference for both program!**"
      ]
    },
    {
      "cell_type": "code",
      "metadata": {
        "id": "dJGJ-epSqlW5"
      },
      "source": [
        "import time"
      ],
      "execution_count": 21,
      "outputs": []
    },
    {
      "cell_type": "code",
      "metadata": {
        "colab": {
          "base_uri": "https://localhost:8080/"
        },
        "id": "etDGF26tmvXE",
        "outputId": "9ae9a9c9-c9d8-4338-afeb-4a7f84b60ccf"
      },
      "source": [
        "start = time.time()\r\n",
        "sum1_upto(20000000)\r\n",
        "end = time.time()\r\n",
        "print(\"Elapsed time using sum1 : \", end - start)"
      ],
      "execution_count": 26,
      "outputs": [
        {
          "output_type": "stream",
          "text": [
            "Elapsed time using sum1 :  1.145411729812622\n"
          ],
          "name": "stdout"
        }
      ]
    },
    {
      "cell_type": "code",
      "metadata": {
        "colab": {
          "base_uri": "https://localhost:8080/"
        },
        "id": "SD_Bzc9Iqwby",
        "outputId": "69d9eb37-d570-421d-bf18-959efb6de152"
      },
      "source": [
        "start = time.time()\r\n",
        "sum2_upto(20000000)\r\n",
        "end = time.time()\r\n",
        "print(\"Elapsed time using sum2 : \", end - start)"
      ],
      "execution_count": 27,
      "outputs": [
        {
          "output_type": "stream",
          "text": [
            "Elapsed time using sum2 :  0.00019884109497070312\n"
          ],
          "name": "stdout"
        }
      ]
    },
    {
      "cell_type": "markdown",
      "metadata": {
        "id": "ytCgdfd9r9PX"
      },
      "source": [
        "Note: We can see that sum2 is very much faster than sum2"
      ]
    },
    {
      "cell_type": "code",
      "metadata": {
        "id": "svZPB88Lq6BJ"
      },
      "source": [
        ""
      ],
      "execution_count": null,
      "outputs": []
    }
  ]
}