{
  "nbformat": 4,
  "nbformat_minor": 0,
  "metadata": {
    "colab": {
      "name": "program02.ipynb",
      "provenance": [],
      "authorship_tag": "ABX9TyOYwET/6N+YTONMMmJB2CtL",
      "include_colab_link": true
    },
    "kernelspec": {
      "name": "python3",
      "display_name": "Python 3"
    }
  },
  "cells": [
    {
      "cell_type": "markdown",
      "metadata": {
        "id": "view-in-github",
        "colab_type": "text"
      },
      "source": [
        "<a href=\"https://colab.research.google.com/github/rawatpremsingh999/Competitive-Programming-/blob/master/program02.ipynb\" target=\"_parent\"><img src=\"https://colab.research.google.com/assets/colab-badge.svg\" alt=\"Open In Colab\"/></a>"
      ]
    },
    {
      "cell_type": "markdown",
      "metadata": {
        "id": "qdE-KDFrlr6i"
      },
      "source": [
        "**Sum upto N- numbers**\r\n",
        "\r\n",
        "\r\n",
        "*  n = 5 then output 1+2+3+4+5 = 15\r\n",
        "*  n = 7 then output 1+ 2+ 3+ 4+ 5+ 6+ 7 = 28\r\n",
        "\r\n"
      ]
    },
    {
      "cell_type": "code",
      "metadata": {
        "colab": {
          "base_uri": "https://localhost:8080/"
        },
        "id": "PYXbcCdhlsiY",
        "outputId": "1c7bf7ed-d740-4ffb-de6c-b6065eaa252d"
      },
      "source": [
        "def sum1_upto(n):\r\n",
        "  # Time Complexity = O(n)\r\n",
        "  sum = 0\r\n",
        "  for i in range(n+1):\r\n",
        "    sum += i\r\n",
        "  return sum\r\n",
        "\r\n",
        "def sum2_upto(n):\r\n",
        "  # Time Compelexity = O(1)\r\n",
        "  return (n * (n+1))//2\r\n",
        "\r\n",
        "if __name__ == \"__main__\":\r\n",
        "  print('Sum Upto (Enter number): ')\r\n",
        "  n = int(input())\r\n",
        "  print(\"Sum1 : {}\".format(sum1_upto(n)))\r\n",
        "  print(\"Sum2 : {}\".format(sum2_upto(n)))"
      ],
      "execution_count": 12,
      "outputs": [
        {
          "output_type": "stream",
          "text": [
            "Sum Upto (Enter number): \n",
            "5\n",
            "Sum1 : 15\n",
            "Sum2 : 15\n"
          ],
          "name": "stdout"
        }
      ]
    },
    {
      "cell_type": "code",
      "metadata": {
        "id": "etDGF26tmvXE"
      },
      "source": [
        ""
      ],
      "execution_count": null,
      "outputs": []
    }
  ]
}