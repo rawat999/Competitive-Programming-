{
  "nbformat": 4,
  "nbformat_minor": 0,
  "metadata": {
    "colab": {
      "name": "program05.ipynb",
      "provenance": [],
      "collapsed_sections": [],
      "authorship_tag": "ABX9TyO9zse0E1HxBnIIlF1WqHDN",
      "include_colab_link": true
    },
    "kernelspec": {
      "name": "python3",
      "display_name": "Python 3"
    }
  },
  "cells": [
    {
      "cell_type": "markdown",
      "metadata": {
        "id": "view-in-github",
        "colab_type": "text"
      },
      "source": [
        "<a href=\"https://colab.research.google.com/github/rawatpremsingh999/Competitive-Programming-/blob/master/program05.ipynb\" target=\"_parent\"><img src=\"https://colab.research.google.com/assets/colab-badge.svg\" alt=\"Open In Colab\"/></a>"
      ]
    },
    {
      "cell_type": "markdown",
      "metadata": {
        "id": "CccCi49mRCsS"
      },
      "source": [
        "# **TCS Digital 2020 - Problem 02**"
      ]
    },
    {
      "cell_type": "code",
      "metadata": {
        "colab": {
          "base_uri": "https://localhost:8080/"
        },
        "id": "FhGsaMxZRDBj",
        "outputId": "9eb95170-25fc-42a9-9ba0-699888b572c7"
      },
      "source": [
        "def Two_smallest_path(L):\r\n",
        "  for i in L:\r\n",
        "    if i >= 1 and i <= 1000:\r\n",
        "      continue\r\n",
        "    else:\r\n",
        "      return False\r\n",
        "    \r\n",
        "  sorted_L = sorted(L)\r\n",
        "\r\n",
        "  for i in range(len(sorted_L)-1):\r\n",
        "    if sorted_L[i] == sorted_L[i+1]:\r\n",
        "      continue\r\n",
        "    else:\r\n",
        "      return (sorted_L[0], sorted_L[1])\r\n",
        "  return True\r\n",
        "\r\n",
        "def input_output():\r\n",
        "  print(\"Input: \")\r\n",
        "  N = int(input())\r\n",
        "  A = []\r\n",
        "  for i in range(N):\r\n",
        "    A.append(int(input()))\r\n",
        "\r\n",
        "  print(\"Output: \")\r\n",
        "\r\n",
        "  if N < 2:\r\n",
        "    print(\"Invalid Input\")\r\n",
        "\r\n",
        "  else:\r\n",
        "    result = Two_smallest_path(A)\r\n",
        "    if result == True:\r\n",
        "      print(\"Equal\")\r\n",
        "    elif result == False:\r\n",
        "      print(\"Invalid Path Distance\")\r\n",
        "    else:\r\n",
        "      print(result[0], result[1])\r\n",
        "\r\n",
        "if __name__ == \"__main__\":\r\n",
        "  input_output()"
      ],
      "execution_count": 5,
      "outputs": [
        {
          "output_type": "stream",
          "text": [
            "Input: \n",
            "4\n",
            "100\n",
            "400\n",
            "300\n",
            "250\n",
            "Output: \n",
            "100 250\n"
          ],
          "name": "stdout"
        }
      ]
    },
    {
      "cell_type": "code",
      "metadata": {
        "colab": {
          "base_uri": "https://localhost:8080/"
        },
        "id": "fAyTSjEhVQZ3",
        "outputId": "fbaa28c8-6765-44f3-d97c-0c5aaa5e26ba"
      },
      "source": [
        "input_output()"
      ],
      "execution_count": 6,
      "outputs": [
        {
          "output_type": "stream",
          "text": [
            "Input: \n",
            "1\n",
            "200\n",
            "Output: \n",
            "Invalid Input\n"
          ],
          "name": "stdout"
        }
      ]
    },
    {
      "cell_type": "code",
      "metadata": {
        "colab": {
          "base_uri": "https://localhost:8080/"
        },
        "id": "EzAoTuZtWudN",
        "outputId": "3a66cb75-3b30-4364-bcca-468d0fe099a9"
      },
      "source": [
        "input_output()"
      ],
      "execution_count": 7,
      "outputs": [
        {
          "output_type": "stream",
          "text": [
            "Input: \n",
            "3\n",
            "100\n",
            "00\n",
            "100\n",
            "Output: \n",
            "Invalid Path Distance\n"
          ],
          "name": "stdout"
        }
      ]
    },
    {
      "cell_type": "code",
      "metadata": {
        "colab": {
          "base_uri": "https://localhost:8080/"
        },
        "id": "nk4hQv4tW1wH",
        "outputId": "2cf75c43-2699-4137-dcee-87d104858f5f"
      },
      "source": [
        "input_output()"
      ],
      "execution_count": 8,
      "outputs": [
        {
          "output_type": "stream",
          "text": [
            "Input: \n",
            "3\n",
            "100\n",
            "100\n",
            "100\n",
            "Output: \n",
            "Equal\n"
          ],
          "name": "stdout"
        }
      ]
    }
  ]
}