{
  "nbformat": 4,
  "nbformat_minor": 0,
  "metadata": {
    "colab": {
      "name": "program04.ipynb",
      "provenance": [],
      "authorship_tag": "ABX9TyOX5oa3CgFHKaeV65901ruT",
      "include_colab_link": true
    },
    "kernelspec": {
      "name": "python3",
      "display_name": "Python 3"
    }
  },
  "cells": [
    {
      "cell_type": "markdown",
      "metadata": {
        "id": "view-in-github",
        "colab_type": "text"
      },
      "source": [
        "<a href=\"https://colab.research.google.com/github/rawatpremsingh999/Competitive-Programming-/blob/master/program04.ipynb\" target=\"_parent\"><img src=\"https://colab.research.google.com/assets/colab-badge.svg\" alt=\"Open In Colab\"/></a>"
      ]
    },
    {
      "cell_type": "markdown",
      "metadata": {
        "id": "5wTL4574PNI1"
      },
      "source": [
        "# **TCS digital 2020**\r\n",
        "\r\n",
        "Write a program to find the smallest integer value 'b' for the given value of 'a'. If we multitply the digits of 'b'. we should get the exact value of 'a'. result 'b' must be contain more than one digit.\r\n",
        "\r\n",
        "**Constraint**   1<= a <= 10000"
      ]
    },
    {
      "cell_type": "code",
      "metadata": {
        "colab": {
          "base_uri": "https://localhost:8080/"
        },
        "id": "fn6C-Mt3GKcO",
        "outputId": "0745c44c-1e22-483d-b87c-3c36da45fa35"
      },
      "source": [
        "def digit_multi(n):\r\n",
        "  result = 1\r\n",
        "  while n != 0:\r\n",
        "    result = result * (n%10)\r\n",
        "    n = int(n/10)\r\n",
        "  return result\r\n",
        "\r\n",
        "def prime(n):\r\n",
        "  if n>1:\r\n",
        "    for i in range(2,n):\r\n",
        "      if n%i == 0:\r\n",
        "        return False\r\n",
        "    else:\r\n",
        "      return True\r\n",
        "\r\n",
        "def smallest_int(x):\r\n",
        "  if prime(x) == True:\r\n",
        "    return False\r\n",
        "\r\n",
        "  i = 1\r\n",
        "  while digit_multi(i) != x and i<999999:\r\n",
        "    i += 1\r\n",
        "  return i\r\n",
        "\r\n",
        "if __name__ == \"__main__\":\r\n",
        "  print(\"Enter a Number (1-10000): \")\r\n",
        "  a = int(input())\r\n",
        "  b = smallest_int(a)\r\n",
        "  if b == 999999 or b == False:\r\n",
        "    print(\"b is Not Possible\")\r\n",
        "  else:\r\n",
        "    print(\"b = {}\".format(smallest_int(a)))"
      ],
      "execution_count": 33,
      "outputs": [
        {
          "output_type": "stream",
          "text": [
            "Enter a Number (1-10000): \n",
            "150\n",
            "b = 556\n"
          ],
          "name": "stdout"
        }
      ]
    }
  ]
}