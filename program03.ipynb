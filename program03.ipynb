{
  "nbformat": 4,
  "nbformat_minor": 0,
  "metadata": {
    "colab": {
      "name": "program03.ipynb",
      "provenance": [],
      "authorship_tag": "ABX9TyMsQ0zgrJ7LaMavrt/T3uI+",
      "include_colab_link": true
    },
    "kernelspec": {
      "name": "python3",
      "display_name": "Python 3"
    }
  },
  "cells": [
    {
      "cell_type": "markdown",
      "metadata": {
        "id": "view-in-github",
        "colab_type": "text"
      },
      "source": [
        "<a href=\"https://colab.research.google.com/github/rawatpremsingh999/Competitive-Programming-/blob/master/program03.ipynb\" target=\"_parent\"><img src=\"https://colab.research.google.com/assets/colab-badge.svg\" alt=\"Open In Colab\"/></a>"
      ]
    },
    {
      "cell_type": "markdown",
      "metadata": {
        "id": "sxutej10sws8"
      },
      "source": [
        "**GCD and LCM program**"
      ]
    },
    {
      "cell_type": "code",
      "metadata": {
        "colab": {
          "base_uri": "https://localhost:8080/"
        },
        "id": "MaJmw9hps5VG",
        "outputId": "a5a7aa40-e642-40f9-f40c-489d3b0e4d7d"
      },
      "source": [
        "# Modified Euclid Algorithm\r\n",
        "# Time Complexity = O(log(min(n,m)))\r\n",
        "def gcd(m,n):\r\n",
        "  if m<n:\r\n",
        "    (m,n) = (n,m)\r\n",
        "  if (m%n) == 0:\r\n",
        "    return n\r\n",
        "  return gcd(n,m%n)\r\n",
        "\r\n",
        "# product of (n,m) = gcd(n,m) * lcm(n,m)\r\n",
        "def lcm(m,n):\r\n",
        "  product = m * n\r\n",
        "  hcf = gcd(m,n)\r\n",
        "  return product // hcf\r\n",
        "\r\n",
        "if __name__ == \"__main__\":\r\n",
        "  print(\"Enter Two Number: \")\r\n",
        "  a, b = map(int, input().split())\r\n",
        "  print(\"GCD {}, LCM {}\".format(gcd(a,b),lcm(a,b)))"
      ],
      "execution_count": 31,
      "outputs": [
        {
          "output_type": "stream",
          "text": [
            "Enter Two Number: \n",
            "120 42\n",
            "GCD 6, LCM 840\n"
          ],
          "name": "stdout"
        }
      ]
    },
    {
      "cell_type": "markdown",
      "metadata": {
        "id": "4RZyW4FKxVRj"
      },
      "source": [
        "**Other GCD program**"
      ]
    },
    {
      "cell_type": "code",
      "metadata": {
        "id": "HI34E1RzxH7v"
      },
      "source": [
        "def gcd1(m,n):\r\n",
        "  fm = []\r\n",
        "  for i in range(1,m+1):\r\n",
        "    if m%i == 0:\r\n",
        "      fm.append(i)\r\n",
        "\r\n",
        "  fn = []\r\n",
        "  for j in range(1,n+1):\r\n",
        "    if n%j == 0:\r\n",
        "      fn.append(j)\r\n",
        "  # save common factors in cf list\r\n",
        "  cf = []\r\n",
        "  for f in fm:\r\n",
        "    if f in fn:\r\n",
        "      cf.append(f)\r\n",
        "  return cf[-1]"
      ],
      "execution_count": 32,
      "outputs": []
    },
    {
      "cell_type": "code",
      "metadata": {
        "id": "1p00g3sUzCd6"
      },
      "source": [
        "def gcd2(n,m):\r\n",
        "  cf = [] # store common factors\r\n",
        "  for i in range(1,min(n,m)+1):\r\n",
        "    if (m%i)==0 and (n%i)==0:\r\n",
        "      cf.append(i)\r\n",
        "  return cf[-1]"
      ],
      "execution_count": 33,
      "outputs": []
    },
    {
      "cell_type": "code",
      "metadata": {
        "id": "I5sSWb7ozfVv"
      },
      "source": [
        "def gcd3(n,m):\r\n",
        "  for i in range(1,min(n,m)+1):\r\n",
        "    if (m%i)==0 and (n%i)==0:\r\n",
        "      mrcf = i # only store most recent common factor\r\n",
        "  return mrcf"
      ],
      "execution_count": 34,
      "outputs": []
    },
    {
      "cell_type": "code",
      "metadata": {
        "id": "CtuQDa6x0KCs"
      },
      "source": [
        "# scan backward\r\n",
        "def gcd4(n,m):\r\n",
        "  i = min(n,m)\r\n",
        "  while i>0:\r\n",
        "    if (m%i) == 0 and (n%i) == 0:\r\n",
        "      return i\r\n",
        "    else:\r\n",
        "      i = i-1"
      ],
      "execution_count": 35,
      "outputs": []
    },
    {
      "cell_type": "code",
      "metadata": {
        "id": "lFmAYxBJ0shp"
      },
      "source": [
        "# Euclid Algorithm\r\n",
        "def gcd5(m,n):\r\n",
        "  if m < n:\r\n",
        "    (m,n) = (n,m)\r\n",
        "  if (m%n) == 0:\r\n",
        "    return n\r\n",
        "  else:\r\n",
        "    d = m-n\r\n",
        "    return gcd(max(n,d),min(n,d))"
      ],
      "execution_count": 36,
      "outputs": []
    },
    {
      "cell_type": "code",
      "metadata": {
        "id": "cMesTwYP5Uva"
      },
      "source": [
        "def gcd_without_recursion(m,n):\r\n",
        "  if m<n:\r\n",
        "    (m,n) = (n,m)\r\n",
        "  while (m%n) != 0:\r\n",
        "    (m,n) = (n,m%n)\r\n",
        "  return n"
      ],
      "execution_count": 37,
      "outputs": []
    },
    {
      "cell_type": "markdown",
      "metadata": {
        "id": "Nwqlmrx52caY"
      },
      "source": [
        "**Time Difference**"
      ]
    },
    {
      "cell_type": "code",
      "metadata": {
        "id": "hB3f4bWH2a4d"
      },
      "source": [
        "import time"
      ],
      "execution_count": 38,
      "outputs": []
    },
    {
      "cell_type": "code",
      "metadata": {
        "colab": {
          "base_uri": "https://localhost:8080/"
        },
        "id": "HX4WJ5bq2qyD",
        "outputId": "d7a6a6d2-54cc-409f-fdfa-76060a9aff5c"
      },
      "source": [
        "start = time.time()\r\n",
        "print(\"GCD is: \", gcd1(20020020,18))\r\n",
        "end = time.time()\r\n",
        "print(\"Elapsed time using gcd1 function : \", end - start)"
      ],
      "execution_count": 39,
      "outputs": [
        {
          "output_type": "stream",
          "text": [
            "GCD is:  6\n",
            "Elapsed time using gcd1 function :  1.2819569110870361\n"
          ],
          "name": "stdout"
        }
      ]
    },
    {
      "cell_type": "code",
      "metadata": {
        "colab": {
          "base_uri": "https://localhost:8080/"
        },
        "id": "jF4JqcVZ3D2n",
        "outputId": "646000e2-1384-45a8-d6f6-273e58bd596d"
      },
      "source": [
        "start = time.time()\r\n",
        "print(\"GCD is: \",gcd2(20020020,18))\r\n",
        "end = time.time()\r\n",
        "print(\"Elapsed time using gcd2 function : \", end - start)"
      ],
      "execution_count": 40,
      "outputs": [
        {
          "output_type": "stream",
          "text": [
            "GCD is:  6\n",
            "Elapsed time using gcd2 function :  0.0001671314239501953\n"
          ],
          "name": "stdout"
        }
      ]
    },
    {
      "cell_type": "code",
      "metadata": {
        "colab": {
          "base_uri": "https://localhost:8080/"
        },
        "id": "XOGh5D4q3Hnw",
        "outputId": "660dada2-e7e3-4004-e460-6a06a380b0c5"
      },
      "source": [
        "start = time.time()\r\n",
        "print(\"GCD is: \",gcd3(20020020,18))\r\n",
        "end = time.time()\r\n",
        "print(\"Elapsed time using gcd3 function : \", end - start)"
      ],
      "execution_count": 41,
      "outputs": [
        {
          "output_type": "stream",
          "text": [
            "GCD is:  6\n",
            "Elapsed time using gcd3 function :  0.0005905628204345703\n"
          ],
          "name": "stdout"
        }
      ]
    },
    {
      "cell_type": "code",
      "metadata": {
        "colab": {
          "base_uri": "https://localhost:8080/"
        },
        "id": "YhUgkpSU3Hzk",
        "outputId": "119c932d-d84d-4bb5-af69-128bf242cb91"
      },
      "source": [
        "start = time.time()\r\n",
        "print(\"GCD is: \",gcd4(20020020,18))\r\n",
        "end = time.time()\r\n",
        "print(\"Elapsed time using gcd4 function : \", end - start)"
      ],
      "execution_count": 42,
      "outputs": [
        {
          "output_type": "stream",
          "text": [
            "GCD is:  6\n",
            "Elapsed time using gcd4 function :  0.0001437664031982422\n"
          ],
          "name": "stdout"
        }
      ]
    },
    {
      "cell_type": "code",
      "metadata": {
        "colab": {
          "base_uri": "https://localhost:8080/"
        },
        "id": "Qvk6r7FD3J-z",
        "outputId": "c56a7804-2099-4192-f09e-b37a03737946"
      },
      "source": [
        "start = time.time()\r\n",
        "print(\"GCD is: \",gcd5(20020020,18))\r\n",
        "end = time.time()\r\n",
        "print(\"Elapsed time using gcd5 function : \", end - start)"
      ],
      "execution_count": 43,
      "outputs": [
        {
          "output_type": "stream",
          "text": [
            "GCD is:  6\n",
            "Elapsed time using gcd5 function :  0.0005311965942382812\n"
          ],
          "name": "stdout"
        }
      ]
    },
    {
      "cell_type": "code",
      "metadata": {
        "colab": {
          "base_uri": "https://localhost:8080/"
        },
        "id": "rvFjxXif3IAJ",
        "outputId": "85969a86-2322-4ef6-9266-f3fa16b52842"
      },
      "source": [
        "# modified GCD time\r\n",
        "start = time.time()\r\n",
        "print(\"GCD is: \",gcd(20020020,18))\r\n",
        "end = time.time()\r\n",
        "print(\"Elapsed time using gcd function : \", end - start)"
      ],
      "execution_count": 44,
      "outputs": [
        {
          "output_type": "stream",
          "text": [
            "GCD is:  6\n",
            "Elapsed time using gcd function :  0.0001442432403564453\n"
          ],
          "name": "stdout"
        }
      ]
    },
    {
      "cell_type": "code",
      "metadata": {
        "colab": {
          "base_uri": "https://localhost:8080/"
        },
        "id": "G3b3_BaR4buo",
        "outputId": "f3f09e34-e0df-4bb8-b217-e5a92e44fd86"
      },
      "source": [
        "# GCD without recursion time\r\n",
        "start = time.time()\r\n",
        "print(\"GCD is: \",gcd_without_recursion(20020020,18))\r\n",
        "end = time.time()\r\n",
        "print(\"Elapsed time using gcd without recursion function : \", end - start)"
      ],
      "execution_count": 45,
      "outputs": [
        {
          "output_type": "stream",
          "text": [
            "GCD is:  6\n",
            "Elapsed time using gcd without recursion function :  0.002306699752807617\n"
          ],
          "name": "stdout"
        }
      ]
    },
    {
      "cell_type": "markdown",
      "metadata": {
        "id": "Cdi9tsGe6EoI"
      },
      "source": [
        "Note: gcd function is better than all other variants of gcd!"
      ]
    },
    {
      "cell_type": "code",
      "metadata": {
        "id": "uS2LoJUo58dj"
      },
      "source": [
        ""
      ],
      "execution_count": null,
      "outputs": []
    }
  ]
}