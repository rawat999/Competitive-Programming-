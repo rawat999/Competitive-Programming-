{
  "nbformat": 4,
  "nbformat_minor": 0,
  "metadata": {
    "colab": {
      "name": "program01.ipynb",
      "provenance": [],
      "authorship_tag": "ABX9TyNu7BmQu4ZuiGDmAWgnrbva",
      "include_colab_link": true
    },
    "kernelspec": {
      "name": "python3",
      "display_name": "Python 3"
    }
  },
  "cells": [
    {
      "cell_type": "markdown",
      "metadata": {
        "id": "view-in-github",
        "colab_type": "text"
      },
      "source": [
        "<a href=\"https://colab.research.google.com/github/rawatpremsingh999/Competitive-Programming-/blob/master/program01.ipynb\" target=\"_parent\"><img src=\"https://colab.research.google.com/assets/colab-badge.svg\" alt=\"Open In Colab\"/></a>"
      ]
    },
    {
      "cell_type": "markdown",
      "metadata": {
        "id": "P2YoIiA5dtAK"
      },
      "source": [
        "**Generate All Binary Strings**\r\n",
        "\r\n",
        "\r\n",
        "* if n = 1, ouput should be: ['0','1']\r\n",
        "* if n = 2, output should be: ['00','01','10','11']\r\n",
        "* if n = 3, output should be: ['000','001','010','011','100','101','110','111']\r\n",
        "\r\n"
      ]
    },
    {
      "cell_type": "code",
      "metadata": {
        "id": "8HM7yeWodsH-"
      },
      "source": [
        "def append_bit(bit,list):\r\n",
        "  return [bit + s for s in list]\r\n",
        "\r\n",
        "\r\n",
        "def generate_bit_strings(n):\r\n",
        "  if n<= 0:\r\n",
        "    return ['']\r\n",
        "  #if n == 1:\r\n",
        "  #  return ['0','1']\r\n",
        "  else:\r\n",
        "    return append_bit('0',generate_bit_strings(n-1)) + append_bit('1', generate_bit_strings(n-1))"
      ],
      "execution_count": 11,
      "outputs": []
    },
    {
      "cell_type": "code",
      "metadata": {
        "colab": {
          "base_uri": "https://localhost:8080/"
        },
        "id": "TEPZ8F3Hf8oj",
        "outputId": "c693e424-e143-49c6-dd20-4042f1d8416c"
      },
      "source": [
        "generate_bit_strings(1)"
      ],
      "execution_count": 12,
      "outputs": [
        {
          "output_type": "execute_result",
          "data": {
            "text/plain": [
              "['0', '1']"
            ]
          },
          "metadata": {
            "tags": []
          },
          "execution_count": 12
        }
      ]
    },
    {
      "cell_type": "code",
      "metadata": {
        "colab": {
          "base_uri": "https://localhost:8080/"
        },
        "id": "mhyFE9cfgbse",
        "outputId": "18d9ea6d-8e8c-4b9f-f715-ba96edb7cb07"
      },
      "source": [
        "generate_bit_strings(2)"
      ],
      "execution_count": 13,
      "outputs": [
        {
          "output_type": "execute_result",
          "data": {
            "text/plain": [
              "['00', '01', '10', '11']"
            ]
          },
          "metadata": {
            "tags": []
          },
          "execution_count": 13
        }
      ]
    },
    {
      "cell_type": "code",
      "metadata": {
        "colab": {
          "base_uri": "https://localhost:8080/"
        },
        "id": "Tb0y4PTKgd4z",
        "outputId": "64246eea-10e0-403a-89ba-aabfc195db62"
      },
      "source": [
        "generate_bit_strings(3)"
      ],
      "execution_count": 14,
      "outputs": [
        {
          "output_type": "execute_result",
          "data": {
            "text/plain": [
              "['000', '001', '010', '011', '100', '101', '110', '111']"
            ]
          },
          "metadata": {
            "tags": []
          },
          "execution_count": 14
        }
      ]
    },
    {
      "cell_type": "code",
      "metadata": {
        "colab": {
          "base_uri": "https://localhost:8080/"
        },
        "id": "u3bfpt3XgfRQ",
        "outputId": "cf66b309-ac0a-441a-98aa-632a85dbad95"
      },
      "source": [
        "generate_bit_strings(4)"
      ],
      "execution_count": 15,
      "outputs": [
        {
          "output_type": "execute_result",
          "data": {
            "text/plain": [
              "['0000',\n",
              " '0001',\n",
              " '0010',\n",
              " '0011',\n",
              " '0100',\n",
              " '0101',\n",
              " '0110',\n",
              " '0111',\n",
              " '1000',\n",
              " '1001',\n",
              " '1010',\n",
              " '1011',\n",
              " '1100',\n",
              " '1101',\n",
              " '1110',\n",
              " '1111']"
            ]
          },
          "metadata": {
            "tags": []
          },
          "execution_count": 15
        }
      ]
    },
    {
      "cell_type": "code",
      "metadata": {
        "id": "T394YkyIgglv"
      },
      "source": [
        ""
      ],
      "execution_count": null,
      "outputs": []
    }
  ]
}